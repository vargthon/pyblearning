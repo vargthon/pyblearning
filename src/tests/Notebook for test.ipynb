{
 "cells": [
  {
   "cell_type": "code",
   "execution_count": 2,
   "metadata": {},
   "outputs": [],
   "source": [
    "import sys\n",
    "sys.path.append('/Users/vargthon/Documents/programacao/machine-learn/ml/src')"
   ]
  },
  {
   "cell_type": "code",
   "execution_count": 3,
   "metadata": {},
   "outputs": [],
   "source": [
    "from lib.collector import Collector\n",
    "from lib.linearmodel import LinearModel\n",
    "from lib.productlearning import ProductLearning\n",
    "from lib.normalizer import Normalizer\n",
    "from datetime import datetime\n",
    "from lib.productsaleslearned import ProductSalesLearned\n",
    "from lib.period import Period"
   ]
  },
  {
   "cell_type": "code",
   "execution_count": 4,
   "metadata": {},
   "outputs": [],
   "source": [
    "collector = Collector()"
   ]
  },
  {
   "cell_type": "code",
   "execution_count": 5,
   "metadata": {},
   "outputs": [],
   "source": [
    "df = collector.colector_mes(\"0100202695\",'010101')\n",
    "normalize = Normalizer()\n",
    "df = normalize.normalizar(df)"
   ]
  },
  {
   "cell_type": "code",
   "execution_count": 6,
   "metadata": {},
   "outputs": [
    {
     "output_type": "execute_result",
     "data": {
      "text/plain": "  KEY:PRODUTO:CODIGO  CALENDAR:DATE METRIC:QTD  EVENT:COVID-19  \\\n0         0100202695     1583031600         66            0.37   \n1         0100202695     1585710000         18            1.00   \n2         0100202695     1588302000         51            1.00   \n3         0100202695     1590980400         49            1.00   \n\n   EVENT:AUXÍLIO GOVERNO  CALENDAR:MONTH:3  CALENDAR:MONTH:4  \\\n0                    0.0                 1                 0   \n1                    1.0                 0                 1   \n2                    1.0                 0                 0   \n3                    1.0                 0                 0   \n\n   CALENDAR:MONTH:5  CALENDAR:MONTH:6  PARAMS:SEQ  \n0                 0                 0           1  \n1                 0                 0           2  \n2                 1                 0           3  \n3                 0                 1           4  ",
      "text/html": "<div>\n<style scoped>\n    .dataframe tbody tr th:only-of-type {\n        vertical-align: middle;\n    }\n\n    .dataframe tbody tr th {\n        vertical-align: top;\n    }\n\n    .dataframe thead th {\n        text-align: right;\n    }\n</style>\n<table border=\"1\" class=\"dataframe\">\n  <thead>\n    <tr style=\"text-align: right;\">\n      <th></th>\n      <th>KEY:PRODUTO:CODIGO</th>\n      <th>CALENDAR:DATE</th>\n      <th>METRIC:QTD</th>\n      <th>EVENT:COVID-19</th>\n      <th>EVENT:AUXÍLIO GOVERNO</th>\n      <th>CALENDAR:MONTH:3</th>\n      <th>CALENDAR:MONTH:4</th>\n      <th>CALENDAR:MONTH:5</th>\n      <th>CALENDAR:MONTH:6</th>\n      <th>PARAMS:SEQ</th>\n    </tr>\n  </thead>\n  <tbody>\n    <tr>\n      <th>0</th>\n      <td>0100202695</td>\n      <td>1583031600</td>\n      <td>66</td>\n      <td>0.37</td>\n      <td>0.0</td>\n      <td>1</td>\n      <td>0</td>\n      <td>0</td>\n      <td>0</td>\n      <td>1</td>\n    </tr>\n    <tr>\n      <th>1</th>\n      <td>0100202695</td>\n      <td>1585710000</td>\n      <td>18</td>\n      <td>1.00</td>\n      <td>1.0</td>\n      <td>0</td>\n      <td>1</td>\n      <td>0</td>\n      <td>0</td>\n      <td>2</td>\n    </tr>\n    <tr>\n      <th>2</th>\n      <td>0100202695</td>\n      <td>1588302000</td>\n      <td>51</td>\n      <td>1.00</td>\n      <td>1.0</td>\n      <td>0</td>\n      <td>0</td>\n      <td>1</td>\n      <td>0</td>\n      <td>3</td>\n    </tr>\n    <tr>\n      <th>3</th>\n      <td>0100202695</td>\n      <td>1590980400</td>\n      <td>49</td>\n      <td>1.00</td>\n      <td>1.0</td>\n      <td>0</td>\n      <td>0</td>\n      <td>0</td>\n      <td>1</td>\n      <td>4</td>\n    </tr>\n  </tbody>\n</table>\n</div>"
     },
     "metadata": {},
     "execution_count": 6
    }
   ],
   "source": [
    "df"
   ]
  },
  {
   "cell_type": "code",
   "execution_count": 7,
   "metadata": {},
   "outputs": [
    {
     "output_type": "execute_result",
     "data": {
      "text/plain": "datetime.datetime(2020, 6, 1, 0, 0)"
     },
     "metadata": {},
     "execution_count": 7
    }
   ],
   "source": [
    "datetime.fromtimestamp(1590980400)"
   ]
  },
  {
   "cell_type": "code",
   "execution_count": null,
   "metadata": {},
   "outputs": [],
   "source": []
  },
  {
   "cell_type": "code",
   "execution_count": 7,
   "metadata": {},
   "outputs": [],
   "source": []
  },
  {
   "cell_type": "code",
   "execution_count": 8,
   "metadata": {},
   "outputs": [
    {
     "output_type": "execute_result",
     "data": {
      "text/plain": "<lib.linearmodel.LinearModel at 0x7fa72d706990>"
     },
     "metadata": {},
     "execution_count": 8
    }
   ],
   "source": []
  },
  {
   "cell_type": "code",
   "execution_count": 13,
   "metadata": {},
   "outputs": [],
   "source": []
  },
  {
   "cell_type": "code",
   "execution_count": 14,
   "metadata": {},
   "outputs": [
    {
     "output_type": "execute_result",
     "data": {
      "text/plain": "31"
     },
     "metadata": {},
     "execution_count": 14
    }
   ],
   "source": []
  },
  {
   "cell_type": "code",
   "execution_count": 8,
   "metadata": {},
   "outputs": [],
   "source": [
    "from lib.repository.linearmodelrepository import LinearModelRepository"
   ]
  },
  {
   "cell_type": "code",
   "execution_count": 9,
   "metadata": {},
   "outputs": [],
   "source": [
    "linear_repo = LinearModelRepository()"
   ]
  },
  {
   "cell_type": "code",
   "execution_count": 10,
   "metadata": {
    "tags": []
   },
   "outputs": [],
   "source": [
    "model = linear_repo.load_valid(product_id='0100102000', company_id='010101', period=Period.MONTHLY.value)"
   ]
  },
  {
   "cell_type": "code",
   "execution_count": 11,
   "metadata": {},
   "outputs": [],
   "source": [
    "#model.predict_model(params=[{\"param\": \"EVENT:COVID-19\", \"value\":1},{\"param\": \"EVENT:AUXÍLIO GOVERNO\", \"value\":1},{\"param\": \"PARAMS:SEQ\", \"value\":11}])"
   ]
  },
  {
   "cell_type": "code",
   "execution_count": 12,
   "metadata": {},
   "outputs": [
    {
     "output_type": "execute_result",
     "data": {
      "text/plain": "['EVENT:COVID-19',\n 'EVENT:AUXÍLIO GOVERNO',\n 'CALENDAR:MONTH:1',\n 'CALENDAR:MONTH:2',\n 'CALENDAR:MONTH:3',\n 'CALENDAR:MONTH:4',\n 'CALENDAR:MONTH:5',\n 'CALENDAR:MONTH:6',\n 'CALENDAR:MONTH:9',\n 'CALENDAR:MONTH:10',\n 'CALENDAR:MONTH:11',\n 'CALENDAR:MONTH:12',\n 'PARAMS:SEQ']"
     },
     "metadata": {},
     "execution_count": 12
    }
   ],
   "source": [
    "model.params"
   ]
  },
  {
   "cell_type": "code",
   "execution_count": 13,
   "metadata": {},
   "outputs": [],
   "source": [
    "#linear_repo.finish_model(model)"
   ]
  },
  {
   "cell_type": "code",
   "execution_count": 21,
   "metadata": {},
   "outputs": [
    {
     "output_type": "execute_result",
     "data": {
      "text/plain": "1595861032.84695"
     },
     "metadata": {},
     "execution_count": 21
    }
   ],
   "source": []
  },
  {
   "cell_type": "code",
   "execution_count": 14,
   "metadata": {},
   "outputs": [],
   "source": [
    "product_sales = ProductSalesLearned()"
   ]
  },
  {
   "cell_type": "code",
   "execution_count": 15,
   "metadata": {
    "tags": []
   },
   "outputs": [],
   "source": [
    "product_sales.load_model(\"0100102000\",'010101')"
   ]
  },
  {
   "cell_type": "code",
   "execution_count": 16,
   "metadata": {},
   "outputs": [
    {
     "output_type": "execute_result",
     "data": {
      "text/plain": "3526.897824121956"
     },
     "metadata": {},
     "execution_count": 16
    }
   ],
   "source": [
    "product_sales.model.predict_model(params=[{\"param\": \"EVENT:COVID-19\", \"value\":1},{\"param\": \"PARAMS:SEQ\", \"value\":11}])"
   ]
  },
  {
   "cell_type": "code",
   "execution_count": 17,
   "metadata": {},
   "outputs": [
    {
     "output_type": "execute_result",
     "data": {
      "text/plain": "datetime.datetime(2020, 7, 28, 11, 34, 21, 264636)"
     },
     "metadata": {},
     "execution_count": 17
    }
   ],
   "source": [
    "product_sales.model.training_date_to"
   ]
  },
  {
   "cell_type": "code",
   "execution_count": 18,
   "metadata": {
    "tags": []
   },
   "outputs": [],
   "source": [
    "product_sales.load_model('0100102006','010101')"
   ]
  },
  {
   "cell_type": "code",
   "execution_count": 19,
   "metadata": {},
   "outputs": [
    {
     "output_type": "execute_result",
     "data": {
      "text/plain": "'gANjc2tsZWFybi5saW5lYXJfbW9kZWwuYmFzZQpMaW5lYXJSZWdyZXNzaW9uCnEAKYFxAX1xAihY\\nDQAAAGZpdF9pbnRlcmNlcHRxA4hYCQAAAG5vcm1hbGl6ZXEEiVgGAAAAY29weV9YcQWIWAYAAABu\\nX2pvYnNxBk5YBQAAAGNvZWZfcQdjbnVtcHkuY29yZS5tdWx0aWFycmF5Cl9yZWNvbnN0cnVjdApx\\nCGNudW1weQpuZGFycmF5CnEJSwCFcQpDAWJxC4dxDFJxDShLAUsNhXEOY251bXB5CmR0eXBlCnEP\\nWAIAAABmOHEQSwBLAYdxEVJxEihLA1gBAAAAPHETTk5OSv////9K/////0sAdHEUYolDaI7Y2V2c\\n6mBAjBlK+ElKYECjuNcWMLNXQBob1TSOZU3AeQ1IWNYUK0Ae/jYpgihbwHHXsNQwTolAVHF3EY7W\\ngcCsaPBthoVjQCqLnqoVZVVAxO6oYTjQcsBAAea32CZewOncXmcEbWDAcRV0cRZiWAkAAABfcmVz\\naWR1ZXNxF2gIaAlLAIVxGGgLh3EZUnEaKEsBSwCFcRtoEolDAHEcdHEdYlgFAAAAcmFua19xHksJ\\nWAkAAABzaW5ndWxhcl9xH2gIaAlLAIVxIGgLh3EhUnEiKEsBSwqFcSNoEolDUPYWS376lSJA3wTD\\niFO19z+A9x4aUV/wPwEAAAAAAPA/AAAAAAAA8D/////////vP////////+8//v//////7z/+////\\n///vP8hyPhoYwaY8cSR0cSViWAoAAABpbnRlcmNlcHRfcSZjbnVtcHkuY29yZS5tdWx0aWFycmF5\\nCnNjYWxhcgpxJ2gPWAIAAABmOHEoSwBLAYdxKVJxKihLA2gTTk5OSv////9K/////0sAdHErYkMI\\nic4tv+/omkBxLIZxLVJxLlgQAAAAX3NrbGVhcm5fdmVyc2lvbnEvWAYAAAAwLjIxLjNxMHViLg==\\n'"
     },
     "metadata": {},
     "execution_count": 19
    }
   ],
   "source": [
    "product_sales.model.encoded"
   ]
  },
  {
   "cell_type": "code",
   "execution_count": 20,
   "metadata": {
    "tags": []
   },
   "outputs": [],
   "source": [
    "model = linear_repo.load_valid('0100102006','010101', period=Period.MONTHLY.value)"
   ]
  },
  {
   "cell_type": "code",
   "execution_count": 21,
   "metadata": {
    "tags": []
   },
   "outputs": [],
   "source": [
    "#linear_repo.finish_model(model)"
   ]
  },
  {
   "cell_type": "code",
   "execution_count": 28,
   "metadata": {
    "tags": []
   },
   "outputs": [],
   "source": [
    "balde_reforcado = ProductSalesLearned()\n",
    "balde_reforcado.load_model('0100102000','010101')"
   ]
  },
  {
   "cell_type": "code",
   "execution_count": 29,
   "metadata": {},
   "outputs": [
    {
     "output_type": "execute_result",
     "data": {
      "text/plain": "4448.0"
     },
     "metadata": {},
     "execution_count": 29
    }
   ],
   "source": [
    "round(balde_reforcado.model.predict_model(params=[{\"param\": \"EVENT:COVID-19\", \"value\":1},{\"param\": \"EVENT:AUXÍLIO GOVERNO\", \"value\":0},{\"param\": \"PARAMS:SEQ\", \"value\":12},{\"param\": \"CALENDAR:MONTH:6\", \"value\":1}]),0)"
   ]
  },
  {
   "cell_type": "code",
   "execution_count": 24,
   "metadata": {},
   "outputs": [
    {
     "output_type": "execute_result",
     "data": {
      "text/plain": "array([    2.34628232,   420.40293741,   494.7536802 ,  -674.13052347,\n       -1129.88285159, -1587.64815053,  1143.4676458 ,   864.58344214,\n         110.29049486,   -75.5937088 ,    74.52208753,   779.63788386,\n          56.88420367])"
     },
     "metadata": {},
     "execution_count": 24
    }
   ],
   "source": [
    "balde_reforcado.model.model.coef_"
   ]
  },
  {
   "cell_type": "code",
   "execution_count": 25,
   "metadata": {},
   "outputs": [],
   "source": [
    "produto = ProductSalesLearned()"
   ]
  },
  {
   "cell_type": "code",
   "execution_count": 26,
   "metadata": {},
   "outputs": [],
   "source": [
    "produto.load_model('0100202695','010101')"
   ]
  },
  {
   "cell_type": "code",
   "execution_count": 27,
   "metadata": {},
   "outputs": [
    {
     "output_type": "execute_result",
     "data": {
      "text/plain": "48.0"
     },
     "metadata": {},
     "execution_count": 27
    }
   ],
   "source": [
    "round(produto.model.predict_model(params=[{\"param\": \"EVENT:COVID-19\", \"value\":1},{\"param\": \"EVENT:AUXÍLIO GOVERNO\", \"value\":1},{\"param\": \"PARAMS:SEQ\", \"value\":12},{\"param\": \"CALENDAR:MONTH:6\", \"value\":1}]),0)"
   ]
  },
  {
   "cell_type": "code",
   "execution_count": null,
   "metadata": {},
   "outputs": [],
   "source": []
  }
 ],
 "metadata": {
  "kernelspec": {
   "display_name": "Python 3.7.4 64-bit ('anaconda3': conda)",
   "language": "python",
   "name": "python37464bitanaconda3condafc26ba1c789945e79c69be9d7582ea17"
  },
  "language_info": {
   "codemirror_mode": {
    "name": "ipython",
    "version": 3
   },
   "file_extension": ".py",
   "mimetype": "text/x-python",
   "name": "python",
   "nbconvert_exporter": "python",
   "pygments_lexer": "ipython3",
   "version": "3.7.4-final"
  }
 },
 "nbformat": 4,
 "nbformat_minor": 2
}