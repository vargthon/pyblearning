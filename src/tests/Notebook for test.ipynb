{
 "cells": [
  {
   "cell_type": "code",
   "execution_count": 23,
   "metadata": {},
   "outputs": [],
   "source": [
    "import sys\n",
    "sys.path.append('/Users/vargthon/Documents/programacao/machine-learn/ml/src')"
   ]
  },
  {
   "cell_type": "code",
   "execution_count": 24,
   "metadata": {},
   "outputs": [],
   "source": [
    "from lib.collector import Collector\n",
    "from lib.linearmodel import LinearModel\n",
    "from lib.productlearning import ProductLearning\n",
    "from lib.normalizer import Normalizer\n",
    "from datetime import datetime\n",
    "from lib.productsaleslearned import ProductSalesLearned\n",
    "from lib.period import Period"
   ]
  },
  {
   "cell_type": "code",
   "execution_count": 25,
   "metadata": {},
   "outputs": [],
   "source": [
    "collector = Collector()"
   ]
  },
  {
   "cell_type": "code",
   "execution_count": 26,
   "metadata": {},
   "outputs": [],
   "source": [
    "df = collector.colector_mes(\"0100111143\",'010101')\n",
    "normalize = Normalizer()\n",
    "df = normalize.normalizar(df)"
   ]
  },
  {
   "cell_type": "code",
   "execution_count": 27,
   "metadata": {},
   "outputs": [
    {
     "output_type": "execute_result",
     "data": {
      "text/plain": "  KEY:PRODUTO:CODIGO  CALENDAR:DATE METRIC:QTD  EVENT:COVID-19  \\\n0         0100111143     1567306800        282            0.00   \n1         0100111143     1569898800        255            0.00   \n2         0100111143     1572577200        298            0.00   \n3         0100111143     1575169200        218            0.00   \n4         0100111143     1577847600        191            0.00   \n5         0100111143     1580526000        178            0.00   \n6         0100111143     1583031600        178            0.37   \n7         0100111143     1585710000        191            1.00   \n8         0100111143     1588302000        698            1.00   \n9         0100111143     1590980400        526            1.00   \n\n   EVENT:AUXÍLIO GOVERNO  CALENDAR:MONTH:1  CALENDAR:MONTH:2  \\\n0                    0.0                 0                 0   \n1                    0.0                 0                 0   \n2                    0.0                 0                 0   \n3                    0.0                 0                 0   \n4                    0.0                 1                 0   \n5                    0.0                 0                 1   \n6                    0.0                 0                 0   \n7                    1.0                 0                 0   \n8                    1.0                 0                 0   \n9                    1.0                 0                 0   \n\n   CALENDAR:MONTH:3  CALENDAR:MONTH:4  CALENDAR:MONTH:5  CALENDAR:MONTH:6  \\\n0                 0                 0                 0                 0   \n1                 0                 0                 0                 0   \n2                 0                 0                 0                 0   \n3                 0                 0                 0                 0   \n4                 0                 0                 0                 0   \n5                 0                 0                 0                 0   \n6                 1                 0                 0                 0   \n7                 0                 1                 0                 0   \n8                 0                 0                 1                 0   \n9                 0                 0                 0                 1   \n\n   CALENDAR:MONTH:9  CALENDAR:MONTH:10  CALENDAR:MONTH:11  CALENDAR:MONTH:12  \\\n0                 1                  0                  0                  0   \n1                 0                  1                  0                  0   \n2                 0                  0                  1                  0   \n3                 0                  0                  0                  1   \n4                 0                  0                  0                  0   \n5                 0                  0                  0                  0   \n6                 0                  0                  0                  0   \n7                 0                  0                  0                  0   \n8                 0                  0                  0                  0   \n9                 0                  0                  0                  0   \n\n   PARAMS:SEQ  \n0           1  \n1           2  \n2           3  \n3           4  \n4           5  \n5           6  \n6           7  \n7           8  \n8           9  \n9          10  ",
      "text/html": "<div>\n<style scoped>\n    .dataframe tbody tr th:only-of-type {\n        vertical-align: middle;\n    }\n\n    .dataframe tbody tr th {\n        vertical-align: top;\n    }\n\n    .dataframe thead th {\n        text-align: right;\n    }\n</style>\n<table border=\"1\" class=\"dataframe\">\n  <thead>\n    <tr style=\"text-align: right;\">\n      <th></th>\n      <th>KEY:PRODUTO:CODIGO</th>\n      <th>CALENDAR:DATE</th>\n      <th>METRIC:QTD</th>\n      <th>EVENT:COVID-19</th>\n      <th>EVENT:AUXÍLIO GOVERNO</th>\n      <th>CALENDAR:MONTH:1</th>\n      <th>CALENDAR:MONTH:2</th>\n      <th>CALENDAR:MONTH:3</th>\n      <th>CALENDAR:MONTH:4</th>\n      <th>CALENDAR:MONTH:5</th>\n      <th>CALENDAR:MONTH:6</th>\n      <th>CALENDAR:MONTH:9</th>\n      <th>CALENDAR:MONTH:10</th>\n      <th>CALENDAR:MONTH:11</th>\n      <th>CALENDAR:MONTH:12</th>\n      <th>PARAMS:SEQ</th>\n    </tr>\n  </thead>\n  <tbody>\n    <tr>\n      <th>0</th>\n      <td>0100111143</td>\n      <td>1567306800</td>\n      <td>282</td>\n      <td>0.00</td>\n      <td>0.0</td>\n      <td>0</td>\n      <td>0</td>\n      <td>0</td>\n      <td>0</td>\n      <td>0</td>\n      <td>0</td>\n      <td>1</td>\n      <td>0</td>\n      <td>0</td>\n      <td>0</td>\n      <td>1</td>\n    </tr>\n    <tr>\n      <th>1</th>\n      <td>0100111143</td>\n      <td>1569898800</td>\n      <td>255</td>\n      <td>0.00</td>\n      <td>0.0</td>\n      <td>0</td>\n      <td>0</td>\n      <td>0</td>\n      <td>0</td>\n      <td>0</td>\n      <td>0</td>\n      <td>0</td>\n      <td>1</td>\n      <td>0</td>\n      <td>0</td>\n      <td>2</td>\n    </tr>\n    <tr>\n      <th>2</th>\n      <td>0100111143</td>\n      <td>1572577200</td>\n      <td>298</td>\n      <td>0.00</td>\n      <td>0.0</td>\n      <td>0</td>\n      <td>0</td>\n      <td>0</td>\n      <td>0</td>\n      <td>0</td>\n      <td>0</td>\n      <td>0</td>\n      <td>0</td>\n      <td>1</td>\n      <td>0</td>\n      <td>3</td>\n    </tr>\n    <tr>\n      <th>3</th>\n      <td>0100111143</td>\n      <td>1575169200</td>\n      <td>218</td>\n      <td>0.00</td>\n      <td>0.0</td>\n      <td>0</td>\n      <td>0</td>\n      <td>0</td>\n      <td>0</td>\n      <td>0</td>\n      <td>0</td>\n      <td>0</td>\n      <td>0</td>\n      <td>0</td>\n      <td>1</td>\n      <td>4</td>\n    </tr>\n    <tr>\n      <th>4</th>\n      <td>0100111143</td>\n      <td>1577847600</td>\n      <td>191</td>\n      <td>0.00</td>\n      <td>0.0</td>\n      <td>1</td>\n      <td>0</td>\n      <td>0</td>\n      <td>0</td>\n      <td>0</td>\n      <td>0</td>\n      <td>0</td>\n      <td>0</td>\n      <td>0</td>\n      <td>0</td>\n      <td>5</td>\n    </tr>\n    <tr>\n      <th>5</th>\n      <td>0100111143</td>\n      <td>1580526000</td>\n      <td>178</td>\n      <td>0.00</td>\n      <td>0.0</td>\n      <td>0</td>\n      <td>1</td>\n      <td>0</td>\n      <td>0</td>\n      <td>0</td>\n      <td>0</td>\n      <td>0</td>\n      <td>0</td>\n      <td>0</td>\n      <td>0</td>\n      <td>6</td>\n    </tr>\n    <tr>\n      <th>6</th>\n      <td>0100111143</td>\n      <td>1583031600</td>\n      <td>178</td>\n      <td>0.37</td>\n      <td>0.0</td>\n      <td>0</td>\n      <td>0</td>\n      <td>1</td>\n      <td>0</td>\n      <td>0</td>\n      <td>0</td>\n      <td>0</td>\n      <td>0</td>\n      <td>0</td>\n      <td>0</td>\n      <td>7</td>\n    </tr>\n    <tr>\n      <th>7</th>\n      <td>0100111143</td>\n      <td>1585710000</td>\n      <td>191</td>\n      <td>1.00</td>\n      <td>1.0</td>\n      <td>0</td>\n      <td>0</td>\n      <td>0</td>\n      <td>1</td>\n      <td>0</td>\n      <td>0</td>\n      <td>0</td>\n      <td>0</td>\n      <td>0</td>\n      <td>0</td>\n      <td>8</td>\n    </tr>\n    <tr>\n      <th>8</th>\n      <td>0100111143</td>\n      <td>1588302000</td>\n      <td>698</td>\n      <td>1.00</td>\n      <td>1.0</td>\n      <td>0</td>\n      <td>0</td>\n      <td>0</td>\n      <td>0</td>\n      <td>1</td>\n      <td>0</td>\n      <td>0</td>\n      <td>0</td>\n      <td>0</td>\n      <td>0</td>\n      <td>9</td>\n    </tr>\n    <tr>\n      <th>9</th>\n      <td>0100111143</td>\n      <td>1590980400</td>\n      <td>526</td>\n      <td>1.00</td>\n      <td>1.0</td>\n      <td>0</td>\n      <td>0</td>\n      <td>0</td>\n      <td>0</td>\n      <td>0</td>\n      <td>1</td>\n      <td>0</td>\n      <td>0</td>\n      <td>0</td>\n      <td>0</td>\n      <td>10</td>\n    </tr>\n  </tbody>\n</table>\n</div>"
     },
     "metadata": {},
     "execution_count": 27
    }
   ],
   "source": [
    "df"
   ]
  },
  {
   "cell_type": "code",
   "execution_count": 28,
   "metadata": {},
   "outputs": [
    {
     "output_type": "execute_result",
     "data": {
      "text/plain": "datetime.datetime(2020, 4, 1, 0, 0)"
     },
     "metadata": {},
     "execution_count": 28
    }
   ],
   "source": [
    "datetime.fromtimestamp(1585710000)"
   ]
  },
  {
   "cell_type": "code",
   "execution_count": null,
   "metadata": {},
   "outputs": [],
   "source": []
  },
  {
   "cell_type": "code",
   "execution_count": 7,
   "metadata": {},
   "outputs": [],
   "source": []
  },
  {
   "cell_type": "code",
   "execution_count": 8,
   "metadata": {},
   "outputs": [
    {
     "output_type": "execute_result",
     "data": {
      "text/plain": "<lib.linearmodel.LinearModel at 0x7fa72d706990>"
     },
     "metadata": {},
     "execution_count": 8
    }
   ],
   "source": []
  },
  {
   "cell_type": "code",
   "execution_count": 13,
   "metadata": {},
   "outputs": [],
   "source": []
  },
  {
   "cell_type": "code",
   "execution_count": 14,
   "metadata": {},
   "outputs": [
    {
     "output_type": "execute_result",
     "data": {
      "text/plain": "31"
     },
     "metadata": {},
     "execution_count": 14
    }
   ],
   "source": []
  },
  {
   "cell_type": "code",
   "execution_count": 29,
   "metadata": {},
   "outputs": [],
   "source": [
    "from lib.repository.linearmodelrepository import LinearModelRepository"
   ]
  },
  {
   "cell_type": "code",
   "execution_count": 30,
   "metadata": {},
   "outputs": [],
   "source": [
    "linear_repo = LinearModelRepository()"
   ]
  },
  {
   "cell_type": "code",
   "execution_count": 31,
   "metadata": {
    "tags": []
   },
   "outputs": [
    {
     "output_type": "error",
     "ename": "TypeError",
     "evalue": "load_valid() missing 1 required positional argument: 'period'",
     "traceback": [
      "\u001b[0;31m---------------------------------------------------------------------------\u001b[0m",
      "\u001b[0;31mTypeError\u001b[0m                                 Traceback (most recent call last)",
      "\u001b[0;32m<ipython-input-31-115d56a2b0c3>\u001b[0m in \u001b[0;36m<module>\u001b[0;34m\u001b[0m\n\u001b[0;32m----> 1\u001b[0;31m \u001b[0mmodel\u001b[0m \u001b[0;34m=\u001b[0m \u001b[0mlinear_repo\u001b[0m\u001b[0;34m.\u001b[0m\u001b[0mload_valid\u001b[0m\u001b[0;34m(\u001b[0m\u001b[0mproduct_id\u001b[0m\u001b[0;34m=\u001b[0m\u001b[0;34m'0100102000'\u001b[0m\u001b[0;34m,\u001b[0m \u001b[0mcompany_id\u001b[0m\u001b[0;34m=\u001b[0m\u001b[0;34m'010101'\u001b[0m\u001b[0;34m)\u001b[0m\u001b[0;34m\u001b[0m\u001b[0;34m\u001b[0m\u001b[0m\n\u001b[0m",
      "\u001b[0;31mTypeError\u001b[0m: load_valid() missing 1 required positional argument: 'period'"
     ]
    }
   ],
   "source": [
    "model = linear_repo.load_valid(product_id='0100102000', company_id='010101')"
   ]
  },
  {
   "cell_type": "code",
   "execution_count": 32,
   "metadata": {},
   "outputs": [],
   "source": [
    "#model.predict_model(params=[{\"param\": \"EVENT:COVID-19\", \"value\":1},{\"param\": \"EVENT:AUXÍLIO GOVERNO\", \"value\":1},{\"param\": \"PARAMS:SEQ\", \"value\":11}])"
   ]
  },
  {
   "cell_type": "code",
   "execution_count": 33,
   "metadata": {},
   "outputs": [
    {
     "output_type": "error",
     "ename": "NameError",
     "evalue": "name 'model' is not defined",
     "traceback": [
      "\u001b[0;31m---------------------------------------------------------------------------\u001b[0m",
      "\u001b[0;31mNameError\u001b[0m                                 Traceback (most recent call last)",
      "\u001b[0;32m<ipython-input-33-af908345f5b5>\u001b[0m in \u001b[0;36m<module>\u001b[0;34m\u001b[0m\n\u001b[0;32m----> 1\u001b[0;31m \u001b[0mmodel\u001b[0m\u001b[0;34m.\u001b[0m\u001b[0mparams\u001b[0m\u001b[0;34m\u001b[0m\u001b[0;34m\u001b[0m\u001b[0m\n\u001b[0m",
      "\u001b[0;31mNameError\u001b[0m: name 'model' is not defined"
     ]
    }
   ],
   "source": [
    "model.params"
   ]
  },
  {
   "cell_type": "code",
   "execution_count": 34,
   "metadata": {},
   "outputs": [],
   "source": [
    "#linear_repo.finish_model(model)"
   ]
  },
  {
   "cell_type": "code",
   "execution_count": 21,
   "metadata": {},
   "outputs": [
    {
     "output_type": "execute_result",
     "data": {
      "text/plain": "1595861032.84695"
     },
     "metadata": {},
     "execution_count": 21
    }
   ],
   "source": []
  },
  {
   "cell_type": "code",
   "execution_count": 35,
   "metadata": {},
   "outputs": [],
   "source": [
    "product_sales = ProductSalesLearned()"
   ]
  },
  {
   "cell_type": "code",
   "execution_count": 36,
   "metadata": {
    "tags": []
   },
   "outputs": [],
   "source": [
    "product_sales.load_model(\"0100111143\",'010101')"
   ]
  },
  {
   "cell_type": "code",
   "execution_count": 37,
   "metadata": {},
   "outputs": [
    {
     "output_type": "execute_result",
     "data": {
      "text/plain": "348.659279593665"
     },
     "metadata": {},
     "execution_count": 37
    }
   ],
   "source": [
    "product_sales.model.predict_model(params=[{\"param\": \"EVENT:COVID-19\", \"value\":1},{\"param\": \"PARAMS:SEQ\", \"value\":11}])"
   ]
  },
  {
   "cell_type": "code",
   "execution_count": 38,
   "metadata": {},
   "outputs": [
    {
     "output_type": "execute_result",
     "data": {
      "text/plain": "datetime.datetime(2020, 7, 28, 11, 34, 21, 264636)"
     },
     "metadata": {},
     "execution_count": 38
    }
   ],
   "source": [
    "product_sales.model.training_date_to"
   ]
  },
  {
   "cell_type": "code",
   "execution_count": 39,
   "metadata": {
    "tags": []
   },
   "outputs": [],
   "source": [
    "product_sales.load_model('0100102006','010101')"
   ]
  },
  {
   "cell_type": "code",
   "execution_count": 40,
   "metadata": {},
   "outputs": [
    {
     "output_type": "execute_result",
     "data": {
      "text/plain": "'gANjc2tsZWFybi5saW5lYXJfbW9kZWwuYmFzZQpMaW5lYXJSZWdyZXNzaW9uCnEAKYFxAX1xAihY\\nDQAAAGZpdF9pbnRlcmNlcHRxA4hYCQAAAG5vcm1hbGl6ZXEEiVgGAAAAY29weV9YcQWIWAYAAABu\\nX2pvYnNxBk5YBQAAAGNvZWZfcQdjbnVtcHkuY29yZS5tdWx0aWFycmF5Cl9yZWNvbnN0cnVjdApx\\nCGNudW1weQpuZGFycmF5CnEJSwCFcQpDAWJxC4dxDFJxDShLAUsNhXEOY251bXB5CmR0eXBlCnEP\\nWAIAAABmOHEQSwBLAYdxEVJxEihLA1gBAAAAPHETTk5OSv////9K/////0sAdHEUYolDaI7Y2V2c\\n6mBAjBlK+ElKYECjuNcWMLNXQBob1TSOZU3AeQ1IWNYUK0Ae/jYpgihbwHHXsNQwTolAVHF3EY7W\\ngcCsaPBthoVjQCqLnqoVZVVAxO6oYTjQcsBAAea32CZewOncXmcEbWDAcRV0cRZiWAkAAABfcmVz\\naWR1ZXNxF2gIaAlLAIVxGGgLh3EZUnEaKEsBSwCFcRtoEolDAHEcdHEdYlgFAAAAcmFua19xHksJ\\nWAkAAABzaW5ndWxhcl9xH2gIaAlLAIVxIGgLh3EhUnEiKEsBSwqFcSNoEolDUPYWS376lSJA3wTD\\niFO19z+A9x4aUV/wPwEAAAAAAPA/AAAAAAAA8D/////////vP////////+8//v//////7z/+////\\n///vP8hyPhoYwaY8cSR0cSViWAoAAABpbnRlcmNlcHRfcSZjbnVtcHkuY29yZS5tdWx0aWFycmF5\\nCnNjYWxhcgpxJ2gPWAIAAABmOHEoSwBLAYdxKVJxKihLA2gTTk5OSv////9K/////0sAdHErYkMI\\nic4tv+/omkBxLIZxLVJxLlgQAAAAX3NrbGVhcm5fdmVyc2lvbnEvWAYAAAAwLjIxLjNxMHViLg==\\n'"
     },
     "metadata": {},
     "execution_count": 40
    }
   ],
   "source": [
    "product_sales.model.encoded"
   ]
  },
  {
   "cell_type": "code",
   "execution_count": 41,
   "metadata": {
    "tags": []
   },
   "outputs": [],
   "source": [
    "model = linear_repo.load_valid('0100102006','010101', period=Period.MONTHLY.value)"
   ]
  },
  {
   "cell_type": "code",
   "execution_count": 42,
   "metadata": {
    "tags": []
   },
   "outputs": [],
   "source": [
    "#linear_repo.finish_model(model)"
   ]
  },
  {
   "cell_type": "code",
   "execution_count": 43,
   "metadata": {
    "tags": []
   },
   "outputs": [],
   "source": [
    "balde_reforcado = ProductSalesLearned()\n",
    "balde_reforcado.load_model('0100102000','010101')"
   ]
  },
  {
   "cell_type": "code",
   "execution_count": 44,
   "metadata": {},
   "outputs": [
    {
     "output_type": "execute_result",
     "data": {
      "text/plain": "<Period.MONTHLY: 1>"
     },
     "metadata": {},
     "execution_count": 44
    }
   ],
   "source": [
    "balde_reforcado.model.period"
   ]
  },
  {
   "cell_type": "code",
   "execution_count": null,
   "metadata": {},
   "outputs": [],
   "source": []
  }
 ],
 "metadata": {
  "kernelspec": {
   "display_name": "Python 3.7.4 64-bit ('anaconda3': conda)",
   "language": "python",
   "name": "python37464bitanaconda3condafc26ba1c789945e79c69be9d7582ea17"
  },
  "language_info": {
   "codemirror_mode": {
    "name": "ipython",
    "version": 3
   },
   "file_extension": ".py",
   "mimetype": "text/x-python",
   "name": "python",
   "nbconvert_exporter": "python",
   "pygments_lexer": "ipython3",
   "version": "3.7.4-final"
  }
 },
 "nbformat": 4,
 "nbformat_minor": 2
}