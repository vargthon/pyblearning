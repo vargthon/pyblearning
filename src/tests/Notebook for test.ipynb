{
 "cells": [
  {
   "cell_type": "code",
   "execution_count": 49,
   "metadata": {},
   "outputs": [],
   "source": [
    "import sys\n",
    "sys.path.append('/Users/vargthon/Documents/programacao/machine-learn/ml/src')"
   ]
  },
  {
   "cell_type": "code",
   "execution_count": 50,
   "metadata": {},
   "outputs": [],
   "source": [
    "from lib.collector import Collector\n",
    "from lib.linearmodel import LinearModel\n",
    "from lib.productlearning import ProductLearning\n",
    "from lib.normalizer import Normalizer\n",
    "from datetime import datetime"
   ]
  },
  {
   "cell_type": "code",
   "execution_count": 51,
   "metadata": {},
   "outputs": [],
   "source": [
    "collector = Collector()"
   ]
  },
  {
   "cell_type": "code",
   "execution_count": 52,
   "metadata": {},
   "outputs": [],
   "source": [
    "df = collector.colector_mes('0100102000','010101')\n",
    "normalize = Normalizer()\n",
    "df = normalize.normalizar(df)"
   ]
  },
  {
   "cell_type": "code",
   "execution_count": 53,
   "metadata": {},
   "outputs": [
    {
     "output_type": "execute_result",
     "data": {
      "text/plain": "  KEY:PRODUTO:CODIGO  CALENDAR:DATE METRIC:QTD  EVENT:COVID-19  \\\n0         0100102000     1567306800       3066            0.00   \n1         0100102000     1569898800       2937            0.00   \n2         0100102000     1572577200       3144            0.00   \n3         0100102000     1575169200       3906            0.00   \n4         0100102000     1577847600       3678            0.00   \n5         0100102000     1580526000       2566            0.00   \n6         0100102000     1583031600       2168            0.37   \n7         0100102000     1585710000       2189            1.00   \n8         0100102000     1588302000       4977            1.00   \n9         0100102000     1590980400       4755            1.00   \n\n   CALENDAR:MONTH:1  CALENDAR:MONTH:2  CALENDAR:MONTH:3  CALENDAR:MONTH:4  \\\n0                 0                 0                 0                 0   \n1                 0                 0                 0                 0   \n2                 0                 0                 0                 0   \n3                 0                 0                 0                 0   \n4                 1                 0                 0                 0   \n5                 0                 1                 0                 0   \n6                 0                 0                 1                 0   \n7                 0                 0                 0                 1   \n8                 0                 0                 0                 0   \n9                 0                 0                 0                 0   \n\n   CALENDAR:MONTH:5  CALENDAR:MONTH:6  CALENDAR:MONTH:9  CALENDAR:MONTH:10  \\\n0                 0                 0                 1                  0   \n1                 0                 0                 0                  1   \n2                 0                 0                 0                  0   \n3                 0                 0                 0                  0   \n4                 0                 0                 0                  0   \n5                 0                 0                 0                  0   \n6                 0                 0                 0                  0   \n7                 0                 0                 0                  0   \n8                 1                 0                 0                  0   \n9                 0                 1                 0                  0   \n\n   CALENDAR:MONTH:11  CALENDAR:MONTH:12  PARAMS:SEQ  \n0                  0                  0           1  \n1                  0                  0           2  \n2                  1                  0           3  \n3                  0                  1           4  \n4                  0                  0           5  \n5                  0                  0           6  \n6                  0                  0           7  \n7                  0                  0           8  \n8                  0                  0           9  \n9                  0                  0          10  ",
      "text/html": "<div>\n<style scoped>\n    .dataframe tbody tr th:only-of-type {\n        vertical-align: middle;\n    }\n\n    .dataframe tbody tr th {\n        vertical-align: top;\n    }\n\n    .dataframe thead th {\n        text-align: right;\n    }\n</style>\n<table border=\"1\" class=\"dataframe\">\n  <thead>\n    <tr style=\"text-align: right;\">\n      <th></th>\n      <th>KEY:PRODUTO:CODIGO</th>\n      <th>CALENDAR:DATE</th>\n      <th>METRIC:QTD</th>\n      <th>EVENT:COVID-19</th>\n      <th>CALENDAR:MONTH:1</th>\n      <th>CALENDAR:MONTH:2</th>\n      <th>CALENDAR:MONTH:3</th>\n      <th>CALENDAR:MONTH:4</th>\n      <th>CALENDAR:MONTH:5</th>\n      <th>CALENDAR:MONTH:6</th>\n      <th>CALENDAR:MONTH:9</th>\n      <th>CALENDAR:MONTH:10</th>\n      <th>CALENDAR:MONTH:11</th>\n      <th>CALENDAR:MONTH:12</th>\n      <th>PARAMS:SEQ</th>\n    </tr>\n  </thead>\n  <tbody>\n    <tr>\n      <th>0</th>\n      <td>0100102000</td>\n      <td>1567306800</td>\n      <td>3066</td>\n      <td>0.00</td>\n      <td>0</td>\n      <td>0</td>\n      <td>0</td>\n      <td>0</td>\n      <td>0</td>\n      <td>0</td>\n      <td>1</td>\n      <td>0</td>\n      <td>0</td>\n      <td>0</td>\n      <td>1</td>\n    </tr>\n    <tr>\n      <th>1</th>\n      <td>0100102000</td>\n      <td>1569898800</td>\n      <td>2937</td>\n      <td>0.00</td>\n      <td>0</td>\n      <td>0</td>\n      <td>0</td>\n      <td>0</td>\n      <td>0</td>\n      <td>0</td>\n      <td>0</td>\n      <td>1</td>\n      <td>0</td>\n      <td>0</td>\n      <td>2</td>\n    </tr>\n    <tr>\n      <th>2</th>\n      <td>0100102000</td>\n      <td>1572577200</td>\n      <td>3144</td>\n      <td>0.00</td>\n      <td>0</td>\n      <td>0</td>\n      <td>0</td>\n      <td>0</td>\n      <td>0</td>\n      <td>0</td>\n      <td>0</td>\n      <td>0</td>\n      <td>1</td>\n      <td>0</td>\n      <td>3</td>\n    </tr>\n    <tr>\n      <th>3</th>\n      <td>0100102000</td>\n      <td>1575169200</td>\n      <td>3906</td>\n      <td>0.00</td>\n      <td>0</td>\n      <td>0</td>\n      <td>0</td>\n      <td>0</td>\n      <td>0</td>\n      <td>0</td>\n      <td>0</td>\n      <td>0</td>\n      <td>0</td>\n      <td>1</td>\n      <td>4</td>\n    </tr>\n    <tr>\n      <th>4</th>\n      <td>0100102000</td>\n      <td>1577847600</td>\n      <td>3678</td>\n      <td>0.00</td>\n      <td>1</td>\n      <td>0</td>\n      <td>0</td>\n      <td>0</td>\n      <td>0</td>\n      <td>0</td>\n      <td>0</td>\n      <td>0</td>\n      <td>0</td>\n      <td>0</td>\n      <td>5</td>\n    </tr>\n    <tr>\n      <th>5</th>\n      <td>0100102000</td>\n      <td>1580526000</td>\n      <td>2566</td>\n      <td>0.00</td>\n      <td>0</td>\n      <td>1</td>\n      <td>0</td>\n      <td>0</td>\n      <td>0</td>\n      <td>0</td>\n      <td>0</td>\n      <td>0</td>\n      <td>0</td>\n      <td>0</td>\n      <td>6</td>\n    </tr>\n    <tr>\n      <th>6</th>\n      <td>0100102000</td>\n      <td>1583031600</td>\n      <td>2168</td>\n      <td>0.37</td>\n      <td>0</td>\n      <td>0</td>\n      <td>1</td>\n      <td>0</td>\n      <td>0</td>\n      <td>0</td>\n      <td>0</td>\n      <td>0</td>\n      <td>0</td>\n      <td>0</td>\n      <td>7</td>\n    </tr>\n    <tr>\n      <th>7</th>\n      <td>0100102000</td>\n      <td>1585710000</td>\n      <td>2189</td>\n      <td>1.00</td>\n      <td>0</td>\n      <td>0</td>\n      <td>0</td>\n      <td>1</td>\n      <td>0</td>\n      <td>0</td>\n      <td>0</td>\n      <td>0</td>\n      <td>0</td>\n      <td>0</td>\n      <td>8</td>\n    </tr>\n    <tr>\n      <th>8</th>\n      <td>0100102000</td>\n      <td>1588302000</td>\n      <td>4977</td>\n      <td>1.00</td>\n      <td>0</td>\n      <td>0</td>\n      <td>0</td>\n      <td>0</td>\n      <td>1</td>\n      <td>0</td>\n      <td>0</td>\n      <td>0</td>\n      <td>0</td>\n      <td>0</td>\n      <td>9</td>\n    </tr>\n    <tr>\n      <th>9</th>\n      <td>0100102000</td>\n      <td>1590980400</td>\n      <td>4755</td>\n      <td>1.00</td>\n      <td>0</td>\n      <td>0</td>\n      <td>0</td>\n      <td>0</td>\n      <td>0</td>\n      <td>1</td>\n      <td>0</td>\n      <td>0</td>\n      <td>0</td>\n      <td>0</td>\n      <td>10</td>\n    </tr>\n  </tbody>\n</table>\n</div>"
     },
     "metadata": {},
     "execution_count": 53
    }
   ],
   "source": [
    "df"
   ]
  },
  {
   "cell_type": "code",
   "execution_count": null,
   "metadata": {},
   "outputs": [],
   "source": []
  },
  {
   "cell_type": "code",
   "execution_count": null,
   "metadata": {},
   "outputs": [],
   "source": []
  },
  {
   "cell_type": "code",
   "execution_count": 54,
   "metadata": {},
   "outputs": [],
   "source": [
    "linearproduct = ProductLearning()"
   ]
  },
  {
   "cell_type": "code",
   "execution_count": 55,
   "metadata": {},
   "outputs": [],
   "source": [
    "linearproduct.fit_linear_monthly_product('0100102000','010101')"
   ]
  },
  {
   "cell_type": "code",
   "execution_count": 56,
   "metadata": {},
   "outputs": [
    {
     "output_type": "execute_result",
     "data": {
      "text/plain": "'{\"EVENT:COVID-19\", \"CALENDAR:MONTH:1\", \"CALENDAR:MONTH:2\", \"CALENDAR:MONTH:3\", \"CALENDAR:MONTH:4\", \"CALENDAR:MONTH:5\", \"CALENDAR:MONTH:6\", \"CALENDAR:MONTH:9\", \"CALENDAR:MONTH:10\", \"CALENDAR:MONTH:11\", \"CALENDAR:MONTH:12\", \"PARAMS:SEQ\"}'"
     },
     "metadata": {},
     "execution_count": 56
    }
   ],
   "source": [
    "str(linearproduct.model.params).replace('[','{').replace(']','}').replace('\\'','\\\"')\n"
   ]
  },
  {
   "cell_type": "code",
   "execution_count": 57,
   "metadata": {},
   "outputs": [
    {
     "output_type": "execute_result",
     "data": {
      "text/plain": "array([  166.08297769,   439.40560828,  -760.66568132, -1308.18767267,\n       -1479.89123821,  1220.03747219,   909.96618259,   179.69076668,\n         -37.38052292,    81.54818748,   755.47689788,    88.0712896 ])"
     },
     "metadata": {},
     "execution_count": 57
    }
   ],
   "source": [
    "linearproduct.model.model.coef_"
   ]
  },
  {
   "cell_type": "code",
   "execution_count": 18,
   "metadata": {},
   "outputs": [],
   "source": []
  },
  {
   "cell_type": "code",
   "execution_count": 58,
   "metadata": {},
   "outputs": [
    {
     "output_type": "execute_result",
     "data": {
      "text/plain": "4021.1763966121134"
     },
     "metadata": {},
     "execution_count": 58
    }
   ],
   "source": [
    "linearproduct.model.predict_model(params=[{\"param\": \"EVENT:COVID-19\", \"value\":1},{\"param\": \"PARAMS:SEQ\", \"value\":12}])"
   ]
  },
  {
   "cell_type": "code",
   "execution_count": 59,
   "metadata": {},
   "outputs": [],
   "source": [
    "import calendar"
   ]
  },
  {
   "cell_type": "code",
   "execution_count": 60,
   "metadata": {},
   "outputs": [
    {
     "output_type": "execute_result",
     "data": {
      "text/plain": "31"
     },
     "metadata": {},
     "execution_count": 60
    }
   ],
   "source": [
    "calendar.monthrange(2020,7)[1]"
   ]
  },
  {
   "cell_type": "code",
   "execution_count": 61,
   "metadata": {},
   "outputs": [],
   "source": [
    "from lib.repository.linearmodelrepository import LinearModelRepository"
   ]
  },
  {
   "cell_type": "code",
   "execution_count": 62,
   "metadata": {},
   "outputs": [],
   "source": [
    "linear_repo = LinearModelRepository()"
   ]
  },
  {
   "cell_type": "code",
   "execution_count": 63,
   "metadata": {
    "tags": []
   },
   "outputs": [],
   "source": [
    "linear_repo.load_by_id(7)"
   ]
  },
  {
   "cell_type": "code",
   "execution_count": 64,
   "metadata": {},
   "outputs": [
    {
     "output_type": "execute_result",
     "data": {
      "text/plain": "'gANjc2tsZWFybi5saW5lYXJfbW9kZWwuYmFzZQpMaW5lYXJSZWdyZXNzaW9uCnEAKYFxAX1xAihY\\nDQAAAGZpdF9pbnRlcmNlcHRxA4hYCQAAAG5vcm1hbGl6ZXEEiVgGAAAAY29weV9YcQWIWAYAAABu\\nX2pvYnNxBk5YBQAAAGNvZWZfcQdjbnVtcHkuY29yZS5tdWx0aWFycmF5Cl9yZWNvbnN0cnVjdApx\\nCGNudW1weQpuZGFycmF5CnEJSwCFcQpDAWJxC4dxDFJxDShLAUsMhXEOY251bXB5CmR0eXBlCnEP\\nWAIAAABmOHEQSwBLAYdxEVJxEihLA1gBAAAAPHETTk5OSv////9K/////0sAdHEUYolDYOgK0sCn\\nwmRAN8obX312e0D3X7pQU8WHwFdbQy3AcJTAcLa/oJAfl8AHJxxfJhCTQPYI8L26b4xA8eW7whp2\\nZkB2uZT5tLBCwIl684AVY1RAPirWr9Cbh0C6KEICkARWQHEVdHEWYlgJAAAAX3Jlc2lkdWVzcRdo\\nCGgJSwCFcRhoC4dxGVJxGihLAUsAhXEbaBKJQwBxHHRxHWJYBQAAAHJhbmtfcR5LCVgJAAAAc2lu\\nZ3VsYXJfcR9oCGgJSwCFcSBoC4dxIVJxIihLAUsKhXEjaBKJQ1CkLqZHJXAiQJQZytVFqvM/AwAA\\nAAAA8D8BAAAAAADwPwEAAAAAAPA/AAAAAAAA8D8AAAAAAADwPwAAAAAAAPA/AAAAAAAA8D8kXnli\\n7CrFPHEkdHElYlgKAAAAaW50ZXJjZXB0X3EmY251bXB5LmNvcmUubXVsdGlhcnJheQpzY2FsYXIK\\ncSdoEkMIWjDC03ncpUBxKIZxKVJxKlgQAAAAX3NrbGVhcm5fdmVyc2lvbnErWAYAAAAwLjIxLjNx\\nLHViLg==\\n'"
     },
     "metadata": {},
     "execution_count": 64
    }
   ],
   "source": [
    "linearproduct.model.encoded"
   ]
  },
  {
   "cell_type": "code",
   "execution_count": null,
   "metadata": {},
   "outputs": [],
   "source": []
  }
 ],
 "metadata": {
  "kernelspec": {
   "display_name": "Python 3.7.4 64-bit ('anaconda3': conda)",
   "language": "python",
   "name": "python37464bitanaconda3condafc26ba1c789945e79c69be9d7582ea17"
  },
  "language_info": {
   "codemirror_mode": {
    "name": "ipython",
    "version": 3
   },
   "file_extension": ".py",
   "mimetype": "text/x-python",
   "name": "python",
   "nbconvert_exporter": "python",
   "pygments_lexer": "ipython3",
   "version": "3.7.4-final"
  }
 },
 "nbformat": 4,
 "nbformat_minor": 2
}