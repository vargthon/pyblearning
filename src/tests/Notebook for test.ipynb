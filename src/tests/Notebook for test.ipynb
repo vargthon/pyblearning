{
 "cells": [
  {
   "cell_type": "code",
   "execution_count": 16,
   "metadata": {},
   "outputs": [],
   "source": [
    "import sys\n",
    "sys.path.append('/Users/vargthon/Documents/programacao/machine-learn/ml/src')"
   ]
  },
  {
   "cell_type": "code",
   "execution_count": 17,
   "metadata": {},
   "outputs": [],
   "source": [
    "from lib.collector import Collector\n",
    "from lib.linearmodel import LinearModel\n",
    "from lib.productlearning import ProductLearning\n",
    "from lib.normalizer import Normalizer\n",
    "from datetime import datetime\n",
    "from lib.productsaleslearned import ProductSalesLearned"
   ]
  },
  {
   "cell_type": "code",
   "execution_count": 18,
   "metadata": {},
   "outputs": [],
   "source": [
    "collector = Collector()"
   ]
  },
  {
   "cell_type": "code",
   "execution_count": 19,
   "metadata": {},
   "outputs": [],
   "source": [
    "df = collector.colector_mes('0100102001','010101')\n",
    "normalize = Normalizer()\n",
    "df = normalize.normalizar(df)"
   ]
  },
  {
   "cell_type": "code",
   "execution_count": 20,
   "metadata": {},
   "outputs": [
    {
     "output_type": "execute_result",
     "data": {
      "text/plain": "  KEY:PRODUTO:CODIGO  CALENDAR:DATE METRIC:QTD  EVENT:COVID-19  \\\n0         0100102001     1567306800       3694            0.00   \n1         0100102001     1569898800       4056            0.00   \n2         0100102001     1572577200       3631            0.00   \n3         0100102001     1575169200       4621            0.00   \n4         0100102001     1577847600       3930            0.00   \n5         0100102001     1580526000       2659            0.00   \n6         0100102001     1583031600       2700            0.37   \n7         0100102001     1585710000       2829            1.00   \n8         0100102001     1588302000       4743            1.00   \n9         0100102001     1590980400       4989            1.00   \n\n   EVENT:AUXÍLIO GOVERNO  CALENDAR:MONTH:1  CALENDAR:MONTH:2  \\\n0                    0.0                 0                 0   \n1                    0.0                 0                 0   \n2                    0.0                 0                 0   \n3                    0.0                 0                 0   \n4                    0.0                 1                 0   \n5                    0.0                 0                 1   \n6                    0.0                 0                 0   \n7                    1.0                 0                 0   \n8                    1.0                 0                 0   \n9                    1.0                 0                 0   \n\n   CALENDAR:MONTH:3  CALENDAR:MONTH:4  CALENDAR:MONTH:5  CALENDAR:MONTH:6  \\\n0                 0                 0                 0                 0   \n1                 0                 0                 0                 0   \n2                 0                 0                 0                 0   \n3                 0                 0                 0                 0   \n4                 0                 0                 0                 0   \n5                 0                 0                 0                 0   \n6                 1                 0                 0                 0   \n7                 0                 1                 0                 0   \n8                 0                 0                 1                 0   \n9                 0                 0                 0                 1   \n\n   CALENDAR:MONTH:9  CALENDAR:MONTH:10  CALENDAR:MONTH:11  CALENDAR:MONTH:12  \\\n0                 1                  0                  0                  0   \n1                 0                  1                  0                  0   \n2                 0                  0                  1                  0   \n3                 0                  0                  0                  1   \n4                 0                  0                  0                  0   \n5                 0                  0                  0                  0   \n6                 0                  0                  0                  0   \n7                 0                  0                  0                  0   \n8                 0                  0                  0                  0   \n9                 0                  0                  0                  0   \n\n   PARAMS:SEQ  \n0           1  \n1           2  \n2           3  \n3           4  \n4           5  \n5           6  \n6           7  \n7           8  \n8           9  \n9          10  ",
      "text/html": "<div>\n<style scoped>\n    .dataframe tbody tr th:only-of-type {\n        vertical-align: middle;\n    }\n\n    .dataframe tbody tr th {\n        vertical-align: top;\n    }\n\n    .dataframe thead th {\n        text-align: right;\n    }\n</style>\n<table border=\"1\" class=\"dataframe\">\n  <thead>\n    <tr style=\"text-align: right;\">\n      <th></th>\n      <th>KEY:PRODUTO:CODIGO</th>\n      <th>CALENDAR:DATE</th>\n      <th>METRIC:QTD</th>\n      <th>EVENT:COVID-19</th>\n      <th>EVENT:AUXÍLIO GOVERNO</th>\n      <th>CALENDAR:MONTH:1</th>\n      <th>CALENDAR:MONTH:2</th>\n      <th>CALENDAR:MONTH:3</th>\n      <th>CALENDAR:MONTH:4</th>\n      <th>CALENDAR:MONTH:5</th>\n      <th>CALENDAR:MONTH:6</th>\n      <th>CALENDAR:MONTH:9</th>\n      <th>CALENDAR:MONTH:10</th>\n      <th>CALENDAR:MONTH:11</th>\n      <th>CALENDAR:MONTH:12</th>\n      <th>PARAMS:SEQ</th>\n    </tr>\n  </thead>\n  <tbody>\n    <tr>\n      <th>0</th>\n      <td>0100102001</td>\n      <td>1567306800</td>\n      <td>3694</td>\n      <td>0.00</td>\n      <td>0.0</td>\n      <td>0</td>\n      <td>0</td>\n      <td>0</td>\n      <td>0</td>\n      <td>0</td>\n      <td>0</td>\n      <td>1</td>\n      <td>0</td>\n      <td>0</td>\n      <td>0</td>\n      <td>1</td>\n    </tr>\n    <tr>\n      <th>1</th>\n      <td>0100102001</td>\n      <td>1569898800</td>\n      <td>4056</td>\n      <td>0.00</td>\n      <td>0.0</td>\n      <td>0</td>\n      <td>0</td>\n      <td>0</td>\n      <td>0</td>\n      <td>0</td>\n      <td>0</td>\n      <td>0</td>\n      <td>1</td>\n      <td>0</td>\n      <td>0</td>\n      <td>2</td>\n    </tr>\n    <tr>\n      <th>2</th>\n      <td>0100102001</td>\n      <td>1572577200</td>\n      <td>3631</td>\n      <td>0.00</td>\n      <td>0.0</td>\n      <td>0</td>\n      <td>0</td>\n      <td>0</td>\n      <td>0</td>\n      <td>0</td>\n      <td>0</td>\n      <td>0</td>\n      <td>0</td>\n      <td>1</td>\n      <td>0</td>\n      <td>3</td>\n    </tr>\n    <tr>\n      <th>3</th>\n      <td>0100102001</td>\n      <td>1575169200</td>\n      <td>4621</td>\n      <td>0.00</td>\n      <td>0.0</td>\n      <td>0</td>\n      <td>0</td>\n      <td>0</td>\n      <td>0</td>\n      <td>0</td>\n      <td>0</td>\n      <td>0</td>\n      <td>0</td>\n      <td>0</td>\n      <td>1</td>\n      <td>4</td>\n    </tr>\n    <tr>\n      <th>4</th>\n      <td>0100102001</td>\n      <td>1577847600</td>\n      <td>3930</td>\n      <td>0.00</td>\n      <td>0.0</td>\n      <td>1</td>\n      <td>0</td>\n      <td>0</td>\n      <td>0</td>\n      <td>0</td>\n      <td>0</td>\n      <td>0</td>\n      <td>0</td>\n      <td>0</td>\n      <td>0</td>\n      <td>5</td>\n    </tr>\n    <tr>\n      <th>5</th>\n      <td>0100102001</td>\n      <td>1580526000</td>\n      <td>2659</td>\n      <td>0.00</td>\n      <td>0.0</td>\n      <td>0</td>\n      <td>1</td>\n      <td>0</td>\n      <td>0</td>\n      <td>0</td>\n      <td>0</td>\n      <td>0</td>\n      <td>0</td>\n      <td>0</td>\n      <td>0</td>\n      <td>6</td>\n    </tr>\n    <tr>\n      <th>6</th>\n      <td>0100102001</td>\n      <td>1583031600</td>\n      <td>2700</td>\n      <td>0.37</td>\n      <td>0.0</td>\n      <td>0</td>\n      <td>0</td>\n      <td>1</td>\n      <td>0</td>\n      <td>0</td>\n      <td>0</td>\n      <td>0</td>\n      <td>0</td>\n      <td>0</td>\n      <td>0</td>\n      <td>7</td>\n    </tr>\n    <tr>\n      <th>7</th>\n      <td>0100102001</td>\n      <td>1585710000</td>\n      <td>2829</td>\n      <td>1.00</td>\n      <td>1.0</td>\n      <td>0</td>\n      <td>0</td>\n      <td>0</td>\n      <td>1</td>\n      <td>0</td>\n      <td>0</td>\n      <td>0</td>\n      <td>0</td>\n      <td>0</td>\n      <td>0</td>\n      <td>8</td>\n    </tr>\n    <tr>\n      <th>8</th>\n      <td>0100102001</td>\n      <td>1588302000</td>\n      <td>4743</td>\n      <td>1.00</td>\n      <td>1.0</td>\n      <td>0</td>\n      <td>0</td>\n      <td>0</td>\n      <td>0</td>\n      <td>1</td>\n      <td>0</td>\n      <td>0</td>\n      <td>0</td>\n      <td>0</td>\n      <td>0</td>\n      <td>9</td>\n    </tr>\n    <tr>\n      <th>9</th>\n      <td>0100102001</td>\n      <td>1590980400</td>\n      <td>4989</td>\n      <td>1.00</td>\n      <td>1.0</td>\n      <td>0</td>\n      <td>0</td>\n      <td>0</td>\n      <td>0</td>\n      <td>0</td>\n      <td>1</td>\n      <td>0</td>\n      <td>0</td>\n      <td>0</td>\n      <td>0</td>\n      <td>10</td>\n    </tr>\n  </tbody>\n</table>\n</div>"
     },
     "metadata": {},
     "execution_count": 20
    }
   ],
   "source": [
    "df"
   ]
  },
  {
   "cell_type": "code",
   "execution_count": 21,
   "metadata": {},
   "outputs": [
    {
     "output_type": "execute_result",
     "data": {
      "text/plain": "datetime.datetime(2020, 4, 1, 0, 0)"
     },
     "metadata": {},
     "execution_count": 21
    }
   ],
   "source": [
    "datetime.fromtimestamp(1585710000)"
   ]
  },
  {
   "cell_type": "code",
   "execution_count": null,
   "metadata": {},
   "outputs": [],
   "source": []
  },
  {
   "cell_type": "code",
   "execution_count": 7,
   "metadata": {},
   "outputs": [],
   "source": []
  },
  {
   "cell_type": "code",
   "execution_count": 8,
   "metadata": {},
   "outputs": [
    {
     "output_type": "execute_result",
     "data": {
      "text/plain": "<lib.linearmodel.LinearModel at 0x7fa72d706990>"
     },
     "metadata": {},
     "execution_count": 8
    }
   ],
   "source": []
  },
  {
   "cell_type": "code",
   "execution_count": 13,
   "metadata": {},
   "outputs": [],
   "source": []
  },
  {
   "cell_type": "code",
   "execution_count": 14,
   "metadata": {},
   "outputs": [
    {
     "output_type": "execute_result",
     "data": {
      "text/plain": "31"
     },
     "metadata": {},
     "execution_count": 14
    }
   ],
   "source": []
  },
  {
   "cell_type": "code",
   "execution_count": 22,
   "metadata": {},
   "outputs": [],
   "source": [
    "from lib.repository.linearmodelrepository import LinearModelRepository"
   ]
  },
  {
   "cell_type": "code",
   "execution_count": 23,
   "metadata": {},
   "outputs": [],
   "source": [
    "linear_repo = LinearModelRepository()"
   ]
  },
  {
   "cell_type": "code",
   "execution_count": 24,
   "metadata": {
    "tags": []
   },
   "outputs": [],
   "source": [
    "model = linear_repo.load_valid(product_id='0100102000', company_id='010101')"
   ]
  },
  {
   "cell_type": "code",
   "execution_count": 25,
   "metadata": {},
   "outputs": [],
   "source": [
    "#model.predict_model(params=[{\"param\": \"EVENT:COVID-19\", \"value\":1},{\"param\": \"EVENT:AUXÍLIO GOVERNO\", \"value\":1},{\"param\": \"PARAMS:SEQ\", \"value\":11}])"
   ]
  },
  {
   "cell_type": "code",
   "execution_count": 26,
   "metadata": {},
   "outputs": [
    {
     "output_type": "execute_result",
     "data": {
      "text/plain": "['EVENT:COVID-19',\n 'EVENT:AUXÍLIO GOVERNO',\n 'CALENDAR:MONTH:1',\n 'CALENDAR:MONTH:2',\n 'CALENDAR:MONTH:3',\n 'CALENDAR:MONTH:4',\n 'CALENDAR:MONTH:5',\n 'CALENDAR:MONTH:6',\n 'CALENDAR:MONTH:9',\n 'CALENDAR:MONTH:10',\n 'CALENDAR:MONTH:11',\n 'CALENDAR:MONTH:12',\n 'PARAMS:SEQ']"
     },
     "metadata": {},
     "execution_count": 26
    }
   ],
   "source": [
    "model.params"
   ]
  },
  {
   "cell_type": "code",
   "execution_count": 27,
   "metadata": {},
   "outputs": [],
   "source": [
    "#linear_repo.finish_model(model)"
   ]
  },
  {
   "cell_type": "code",
   "execution_count": 21,
   "metadata": {},
   "outputs": [
    {
     "output_type": "execute_result",
     "data": {
      "text/plain": "1595861032.84695"
     },
     "metadata": {},
     "execution_count": 21
    }
   ],
   "source": []
  },
  {
   "cell_type": "code",
   "execution_count": 28,
   "metadata": {},
   "outputs": [],
   "source": [
    "product_sales = ProductSalesLearned()"
   ]
  },
  {
   "cell_type": "code",
   "execution_count": 39,
   "metadata": {
    "tags": []
   },
   "outputs": [],
   "source": [
    "product_sales.load_model('0100102000','010101')"
   ]
  },
  {
   "cell_type": "code",
   "execution_count": 40,
   "metadata": {},
   "outputs": [
    {
     "output_type": "execute_result",
     "data": {
      "text/plain": "array([    2.34628232,   420.40293741,   494.7536802 ,  -674.13052347,\n       -1129.88285159, -1587.64815053,  1143.4676458 ,   864.58344214,\n         110.29049486,   -75.5937088 ,    74.52208753,   779.63788386,\n          56.88420367])"
     },
     "metadata": {},
     "execution_count": 40
    }
   ],
   "source": [
    "product_sales.model.model.coef_"
   ]
  },
  {
   "cell_type": "code",
   "execution_count": 41,
   "metadata": {
    "tags": []
   },
   "outputs": [],
   "source": [
    "product_sales.load_model('0100102006','010101')"
   ]
  },
  {
   "cell_type": "code",
   "execution_count": 42,
   "metadata": {},
   "outputs": [
    {
     "output_type": "execute_result",
     "data": {
      "text/plain": "array([ 135.33158772,  130.32152953,   94.79981013,  -58.79340229,\n         13.54069782, -108.6329444 ,  809.77384318, -570.81936925,\n        156.17265984,   85.57944742, -301.01376501, -120.60697744,\n       -131.40678757])"
     },
     "metadata": {},
     "execution_count": 42
    }
   ],
   "source": [
    "product_sales.model.model.coef_"
   ]
  },
  {
   "cell_type": "code",
   "execution_count": 34,
   "metadata": {},
   "outputs": [],
   "source": [
    "model = linear_repo.load_valid('0100102006','010101')"
   ]
  },
  {
   "cell_type": "code",
   "execution_count": 36,
   "metadata": {},
   "outputs": [],
   "source": [
    "linear_repo.finish_model(model)"
   ]
  },
  {
   "cell_type": "code",
   "execution_count": null,
   "metadata": {},
   "outputs": [],
   "source": []
  }
 ],
 "metadata": {
  "kernelspec": {
   "display_name": "Python 3.7.4 64-bit ('anaconda3': conda)",
   "language": "python",
   "name": "python37464bitanaconda3condafc26ba1c789945e79c69be9d7582ea17"
  },
  "language_info": {
   "codemirror_mode": {
    "name": "ipython",
    "version": 3
   },
   "file_extension": ".py",
   "mimetype": "text/x-python",
   "name": "python",
   "nbconvert_exporter": "python",
   "pygments_lexer": "ipython3",
   "version": "3.7.4-final"
  }
 },
 "nbformat": 4,
 "nbformat_minor": 2
}