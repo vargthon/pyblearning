{
 "cells": [
  {
   "cell_type": "code",
   "execution_count": 14,
   "metadata": {},
   "outputs": [],
   "source": [
    "import sys\n",
    "sys.path.append('/Users/vargthon/Documents/programacao/machine-learn/ml/src')"
   ]
  },
  {
   "cell_type": "code",
   "execution_count": 15,
   "metadata": {},
   "outputs": [],
   "source": [
    "from lib.collector import Collector\n",
    "from lib.linearmodel import LinearModel\n",
    "from lib.productlearning import ProductLearning\n",
    "from lib.normalizer import Normalizer\n",
    "from datetime import datetime"
   ]
  },
  {
   "cell_type": "code",
   "execution_count": 16,
   "metadata": {},
   "outputs": [],
   "source": [
    "collector = Collector()"
   ]
  },
  {
   "cell_type": "code",
   "execution_count": 17,
   "metadata": {},
   "outputs": [],
   "source": [
    "df = collector.colector_mes('0100102000','010101')\n",
    "normalize = Normalizer()\n",
    "df = normalize.normalizar(df)"
   ]
  },
  {
   "cell_type": "code",
   "execution_count": 18,
   "metadata": {},
   "outputs": [
    {
     "output_type": "execute_result",
     "data": {
      "text/plain": "   KEY:PRODUTO:CODIGO  CALENDAR:DATE METRIC:QTD  EVENT:COVID-19  \\\n0          0100102000     1567306800       3066            0.00   \n1          0100102000     1569898800       2937            0.00   \n2          0100102000     1572577200       3144            0.00   \n3          0100102000     1575169200       3683            0.00   \n4          0100102000     1577847600       3678            0.00   \n5          0100102000     1580526000       2566            0.00   \n6          0100102000     1583031600       2168            0.37   \n7          0100102000     1585710000       2189            1.00   \n8          0100102000     1588302000       4977            1.00   \n9          0100102000     1590980400       4755            1.00   \n10         0100102000     1606791600        223            0.00   \n\n    CALENDAR:MONTH:1  CALENDAR:MONTH:2  CALENDAR:MONTH:3  CALENDAR:MONTH:4  \\\n0                  0                 0                 0                 0   \n1                  0                 0                 0                 0   \n2                  0                 0                 0                 0   \n3                  0                 0                 0                 0   \n4                  1                 0                 0                 0   \n5                  0                 1                 0                 0   \n6                  0                 0                 1                 0   \n7                  0                 0                 0                 1   \n8                  0                 0                 0                 0   \n9                  0                 0                 0                 0   \n10                 0                 0                 0                 0   \n\n    CALENDAR:MONTH:5  CALENDAR:MONTH:6  CALENDAR:MONTH:9  CALENDAR:MONTH:10  \\\n0                  0                 0                 1                  0   \n1                  0                 0                 0                  1   \n2                  0                 0                 0                  0   \n3                  0                 0                 0                  0   \n4                  0                 0                 0                  0   \n5                  0                 0                 0                  0   \n6                  0                 0                 0                  0   \n7                  0                 0                 0                  0   \n8                  1                 0                 0                  0   \n9                  0                 1                 0                  0   \n10                 0                 0                 0                  0   \n\n    CALENDAR:MONTH:11  CALENDAR:MONTH:12  PARAMS:SEQ  \n0                   0                  0           1  \n1                   0                  0           2  \n2                   1                  0           3  \n3                   0                  1           4  \n4                   0                  0           5  \n5                   0                  0           6  \n6                   0                  0           7  \n7                   0                  0           8  \n8                   0                  0           9  \n9                   0                  0          10  \n10                  0                  1          11  ",
      "text/html": "<div>\n<style scoped>\n    .dataframe tbody tr th:only-of-type {\n        vertical-align: middle;\n    }\n\n    .dataframe tbody tr th {\n        vertical-align: top;\n    }\n\n    .dataframe thead th {\n        text-align: right;\n    }\n</style>\n<table border=\"1\" class=\"dataframe\">\n  <thead>\n    <tr style=\"text-align: right;\">\n      <th></th>\n      <th>KEY:PRODUTO:CODIGO</th>\n      <th>CALENDAR:DATE</th>\n      <th>METRIC:QTD</th>\n      <th>EVENT:COVID-19</th>\n      <th>CALENDAR:MONTH:1</th>\n      <th>CALENDAR:MONTH:2</th>\n      <th>CALENDAR:MONTH:3</th>\n      <th>CALENDAR:MONTH:4</th>\n      <th>CALENDAR:MONTH:5</th>\n      <th>CALENDAR:MONTH:6</th>\n      <th>CALENDAR:MONTH:9</th>\n      <th>CALENDAR:MONTH:10</th>\n      <th>CALENDAR:MONTH:11</th>\n      <th>CALENDAR:MONTH:12</th>\n      <th>PARAMS:SEQ</th>\n    </tr>\n  </thead>\n  <tbody>\n    <tr>\n      <th>0</th>\n      <td>0100102000</td>\n      <td>1567306800</td>\n      <td>3066</td>\n      <td>0.00</td>\n      <td>0</td>\n      <td>0</td>\n      <td>0</td>\n      <td>0</td>\n      <td>0</td>\n      <td>0</td>\n      <td>1</td>\n      <td>0</td>\n      <td>0</td>\n      <td>0</td>\n      <td>1</td>\n    </tr>\n    <tr>\n      <th>1</th>\n      <td>0100102000</td>\n      <td>1569898800</td>\n      <td>2937</td>\n      <td>0.00</td>\n      <td>0</td>\n      <td>0</td>\n      <td>0</td>\n      <td>0</td>\n      <td>0</td>\n      <td>0</td>\n      <td>0</td>\n      <td>1</td>\n      <td>0</td>\n      <td>0</td>\n      <td>2</td>\n    </tr>\n    <tr>\n      <th>2</th>\n      <td>0100102000</td>\n      <td>1572577200</td>\n      <td>3144</td>\n      <td>0.00</td>\n      <td>0</td>\n      <td>0</td>\n      <td>0</td>\n      <td>0</td>\n      <td>0</td>\n      <td>0</td>\n      <td>0</td>\n      <td>0</td>\n      <td>1</td>\n      <td>0</td>\n      <td>3</td>\n    </tr>\n    <tr>\n      <th>3</th>\n      <td>0100102000</td>\n      <td>1575169200</td>\n      <td>3683</td>\n      <td>0.00</td>\n      <td>0</td>\n      <td>0</td>\n      <td>0</td>\n      <td>0</td>\n      <td>0</td>\n      <td>0</td>\n      <td>0</td>\n      <td>0</td>\n      <td>0</td>\n      <td>1</td>\n      <td>4</td>\n    </tr>\n    <tr>\n      <th>4</th>\n      <td>0100102000</td>\n      <td>1577847600</td>\n      <td>3678</td>\n      <td>0.00</td>\n      <td>1</td>\n      <td>0</td>\n      <td>0</td>\n      <td>0</td>\n      <td>0</td>\n      <td>0</td>\n      <td>0</td>\n      <td>0</td>\n      <td>0</td>\n      <td>0</td>\n      <td>5</td>\n    </tr>\n    <tr>\n      <th>5</th>\n      <td>0100102000</td>\n      <td>1580526000</td>\n      <td>2566</td>\n      <td>0.00</td>\n      <td>0</td>\n      <td>1</td>\n      <td>0</td>\n      <td>0</td>\n      <td>0</td>\n      <td>0</td>\n      <td>0</td>\n      <td>0</td>\n      <td>0</td>\n      <td>0</td>\n      <td>6</td>\n    </tr>\n    <tr>\n      <th>6</th>\n      <td>0100102000</td>\n      <td>1583031600</td>\n      <td>2168</td>\n      <td>0.37</td>\n      <td>0</td>\n      <td>0</td>\n      <td>1</td>\n      <td>0</td>\n      <td>0</td>\n      <td>0</td>\n      <td>0</td>\n      <td>0</td>\n      <td>0</td>\n      <td>0</td>\n      <td>7</td>\n    </tr>\n    <tr>\n      <th>7</th>\n      <td>0100102000</td>\n      <td>1585710000</td>\n      <td>2189</td>\n      <td>1.00</td>\n      <td>0</td>\n      <td>0</td>\n      <td>0</td>\n      <td>1</td>\n      <td>0</td>\n      <td>0</td>\n      <td>0</td>\n      <td>0</td>\n      <td>0</td>\n      <td>0</td>\n      <td>8</td>\n    </tr>\n    <tr>\n      <th>8</th>\n      <td>0100102000</td>\n      <td>1588302000</td>\n      <td>4977</td>\n      <td>1.00</td>\n      <td>0</td>\n      <td>0</td>\n      <td>0</td>\n      <td>0</td>\n      <td>1</td>\n      <td>0</td>\n      <td>0</td>\n      <td>0</td>\n      <td>0</td>\n      <td>0</td>\n      <td>9</td>\n    </tr>\n    <tr>\n      <th>9</th>\n      <td>0100102000</td>\n      <td>1590980400</td>\n      <td>4755</td>\n      <td>1.00</td>\n      <td>0</td>\n      <td>0</td>\n      <td>0</td>\n      <td>0</td>\n      <td>0</td>\n      <td>1</td>\n      <td>0</td>\n      <td>0</td>\n      <td>0</td>\n      <td>0</td>\n      <td>10</td>\n    </tr>\n    <tr>\n      <th>10</th>\n      <td>0100102000</td>\n      <td>1606791600</td>\n      <td>223</td>\n      <td>0.00</td>\n      <td>0</td>\n      <td>0</td>\n      <td>0</td>\n      <td>0</td>\n      <td>0</td>\n      <td>0</td>\n      <td>0</td>\n      <td>0</td>\n      <td>0</td>\n      <td>1</td>\n      <td>11</td>\n    </tr>\n  </tbody>\n</table>\n</div>"
     },
     "metadata": {},
     "execution_count": 18
    }
   ],
   "source": [
    "df"
   ]
  },
  {
   "cell_type": "code",
   "execution_count": null,
   "metadata": {},
   "outputs": [],
   "source": []
  },
  {
   "cell_type": "code",
   "execution_count": null,
   "metadata": {},
   "outputs": [],
   "source": []
  },
  {
   "cell_type": "code",
   "execution_count": 19,
   "metadata": {},
   "outputs": [],
   "source": [
    "linearproduct = ProductLearning()"
   ]
  },
  {
   "cell_type": "code",
   "execution_count": 20,
   "metadata": {},
   "outputs": [],
   "source": [
    "linearproduct.fit_linear_monthly_product('0100102000','010101')"
   ]
  },
  {
   "cell_type": "code",
   "execution_count": 21,
   "metadata": {},
   "outputs": [
    {
     "output_type": "execute_result",
     "data": {
      "text/plain": "['EVENT:COVID-19',\n 'CALENDAR:MONTH:1',\n 'CALENDAR:MONTH:2',\n 'CALENDAR:MONTH:3',\n 'CALENDAR:MONTH:4',\n 'CALENDAR:MONTH:5',\n 'CALENDAR:MONTH:6',\n 'CALENDAR:MONTH:9',\n 'CALENDAR:MONTH:10',\n 'CALENDAR:MONTH:11',\n 'CALENDAR:MONTH:12',\n 'PARAMS:SEQ']"
     },
     "metadata": {},
     "execution_count": 21
    }
   ],
   "source": [
    "linearproduct.model.params\n"
   ]
  },
  {
   "cell_type": "code",
   "execution_count": 22,
   "metadata": {},
   "outputs": [
    {
     "output_type": "execute_result",
     "data": {
      "text/plain": "array([ 2336.24357224,   901.8712267 ,   284.15694099,  -483.96746646,\n       -1440.51520268,  1841.77051161,  2114.05622589, -1687.27163044,\n       -1321.98591616,  -620.70020187,   412.58551241,  -494.28571429])"
     },
     "metadata": {},
     "execution_count": 22
    }
   ],
   "source": [
    "linearproduct.model.model.coef_"
   ]
  },
  {
   "cell_type": "code",
   "execution_count": 18,
   "metadata": {},
   "outputs": [],
   "source": []
  },
  {
   "cell_type": "code",
   "execution_count": 41,
   "metadata": {},
   "outputs": [
    {
     "output_type": "execute_result",
     "data": {
      "text/plain": "7583.800916963493"
     },
     "metadata": {},
     "execution_count": 41
    }
   ],
   "source": [
    "linearproduct.model.predict_model(params=[{\"param\": \"EVENT:COVID-19\", \"value\":1},{\"param\": \"PARAMS:SEQ\", \"value\":0}])"
   ]
  },
  {
   "cell_type": "code",
   "execution_count": 11,
   "metadata": {},
   "outputs": [],
   "source": [
    "import calendar"
   ]
  },
  {
   "cell_type": "code",
   "execution_count": 12,
   "metadata": {},
   "outputs": [
    {
     "output_type": "execute_result",
     "data": {
      "text/plain": "31"
     },
     "metadata": {},
     "execution_count": 12
    }
   ],
   "source": [
    "calendar.monthrange(2020,7)[1]"
   ]
  },
  {
   "cell_type": "code",
   "execution_count": null,
   "metadata": {},
   "outputs": [],
   "source": []
  }
 ],
 "metadata": {
  "kernelspec": {
   "display_name": "Python 3.7.4 64-bit ('anaconda3': conda)",
   "language": "python",
   "name": "python37464bitanaconda3condafc26ba1c789945e79c69be9d7582ea17"
  },
  "language_info": {
   "codemirror_mode": {
    "name": "ipython",
    "version": 3
   },
   "file_extension": ".py",
   "mimetype": "text/x-python",
   "name": "python",
   "nbconvert_exporter": "python",
   "pygments_lexer": "ipython3",
   "version": "3.7.4-final"
  }
 },
 "nbformat": 4,
 "nbformat_minor": 2
}