{
 "cells": [
  {
   "cell_type": "code",
   "execution_count": 1,
   "metadata": {},
   "outputs": [],
   "source": [
    "import sys\n",
    "sys.path.append('/Users/vargthon/Documents/programacao/machine-learn/ml/src')"
   ]
  },
  {
   "cell_type": "code",
   "execution_count": 2,
   "metadata": {},
   "outputs": [],
   "source": [
    "from lib.collector import Collector\n",
    "from lib.linearmodel import LinearModel\n",
    "from lib.productlearning import ProductLearning\n",
    "from lib.normalizer import Normalizer\n",
    "from datetime import datetime"
   ]
  },
  {
   "cell_type": "code",
   "execution_count": 3,
   "metadata": {},
   "outputs": [],
   "source": [
    "collector = Collector()"
   ]
  },
  {
   "cell_type": "code",
   "execution_count": 4,
   "metadata": {},
   "outputs": [],
   "source": [
    "df = collector.colector_mes('0100102001','010101')\n",
    "normalize = Normalizer()\n",
    "df = normalize.normalizar(df)"
   ]
  },
  {
   "cell_type": "code",
   "execution_count": 5,
   "metadata": {},
   "outputs": [
    {
     "output_type": "execute_result",
     "data": {
      "text/plain": "  KEY:PRODUTO:CODIGO  CALENDAR:DATE METRIC:QTD  EVENT:COVID-19  \\\n0         0100102001     1567306800       3694            0.00   \n1         0100102001     1569898800       4056            0.00   \n2         0100102001     1572577200       3631            0.00   \n3         0100102001     1575169200       4621            0.00   \n4         0100102001     1577847600       3930            0.00   \n5         0100102001     1580526000       2659            0.00   \n6         0100102001     1583031600       2700            0.37   \n7         0100102001     1585710000       2829            1.00   \n8         0100102001     1588302000       4743            1.00   \n9         0100102001     1590980400       4989            1.00   \n\n   EVENT:AUXÍLIO GOVERNO  CALENDAR:MONTH:1  CALENDAR:MONTH:2  \\\n0                    0.0                 0                 0   \n1                    0.0                 0                 0   \n2                    0.0                 0                 0   \n3                    0.0                 0                 0   \n4                    0.0                 1                 0   \n5                    0.0                 0                 1   \n6                    0.0                 0                 0   \n7                    1.0                 0                 0   \n8                    1.0                 0                 0   \n9                    1.0                 0                 0   \n\n   CALENDAR:MONTH:3  CALENDAR:MONTH:4  CALENDAR:MONTH:5  CALENDAR:MONTH:6  \\\n0                 0                 0                 0                 0   \n1                 0                 0                 0                 0   \n2                 0                 0                 0                 0   \n3                 0                 0                 0                 0   \n4                 0                 0                 0                 0   \n5                 0                 0                 0                 0   \n6                 1                 0                 0                 0   \n7                 0                 1                 0                 0   \n8                 0                 0                 1                 0   \n9                 0                 0                 0                 1   \n\n   CALENDAR:MONTH:9  CALENDAR:MONTH:10  CALENDAR:MONTH:11  CALENDAR:MONTH:12  \\\n0                 1                  0                  0                  0   \n1                 0                  1                  0                  0   \n2                 0                  0                  1                  0   \n3                 0                  0                  0                  1   \n4                 0                  0                  0                  0   \n5                 0                  0                  0                  0   \n6                 0                  0                  0                  0   \n7                 0                  0                  0                  0   \n8                 0                  0                  0                  0   \n9                 0                  0                  0                  0   \n\n   PARAMS:SEQ  \n0           1  \n1           2  \n2           3  \n3           4  \n4           5  \n5           6  \n6           7  \n7           8  \n8           9  \n9          10  ",
      "text/html": "<div>\n<style scoped>\n    .dataframe tbody tr th:only-of-type {\n        vertical-align: middle;\n    }\n\n    .dataframe tbody tr th {\n        vertical-align: top;\n    }\n\n    .dataframe thead th {\n        text-align: right;\n    }\n</style>\n<table border=\"1\" class=\"dataframe\">\n  <thead>\n    <tr style=\"text-align: right;\">\n      <th></th>\n      <th>KEY:PRODUTO:CODIGO</th>\n      <th>CALENDAR:DATE</th>\n      <th>METRIC:QTD</th>\n      <th>EVENT:COVID-19</th>\n      <th>EVENT:AUXÍLIO GOVERNO</th>\n      <th>CALENDAR:MONTH:1</th>\n      <th>CALENDAR:MONTH:2</th>\n      <th>CALENDAR:MONTH:3</th>\n      <th>CALENDAR:MONTH:4</th>\n      <th>CALENDAR:MONTH:5</th>\n      <th>CALENDAR:MONTH:6</th>\n      <th>CALENDAR:MONTH:9</th>\n      <th>CALENDAR:MONTH:10</th>\n      <th>CALENDAR:MONTH:11</th>\n      <th>CALENDAR:MONTH:12</th>\n      <th>PARAMS:SEQ</th>\n    </tr>\n  </thead>\n  <tbody>\n    <tr>\n      <th>0</th>\n      <td>0100102001</td>\n      <td>1567306800</td>\n      <td>3694</td>\n      <td>0.00</td>\n      <td>0.0</td>\n      <td>0</td>\n      <td>0</td>\n      <td>0</td>\n      <td>0</td>\n      <td>0</td>\n      <td>0</td>\n      <td>1</td>\n      <td>0</td>\n      <td>0</td>\n      <td>0</td>\n      <td>1</td>\n    </tr>\n    <tr>\n      <th>1</th>\n      <td>0100102001</td>\n      <td>1569898800</td>\n      <td>4056</td>\n      <td>0.00</td>\n      <td>0.0</td>\n      <td>0</td>\n      <td>0</td>\n      <td>0</td>\n      <td>0</td>\n      <td>0</td>\n      <td>0</td>\n      <td>0</td>\n      <td>1</td>\n      <td>0</td>\n      <td>0</td>\n      <td>2</td>\n    </tr>\n    <tr>\n      <th>2</th>\n      <td>0100102001</td>\n      <td>1572577200</td>\n      <td>3631</td>\n      <td>0.00</td>\n      <td>0.0</td>\n      <td>0</td>\n      <td>0</td>\n      <td>0</td>\n      <td>0</td>\n      <td>0</td>\n      <td>0</td>\n      <td>0</td>\n      <td>0</td>\n      <td>1</td>\n      <td>0</td>\n      <td>3</td>\n    </tr>\n    <tr>\n      <th>3</th>\n      <td>0100102001</td>\n      <td>1575169200</td>\n      <td>4621</td>\n      <td>0.00</td>\n      <td>0.0</td>\n      <td>0</td>\n      <td>0</td>\n      <td>0</td>\n      <td>0</td>\n      <td>0</td>\n      <td>0</td>\n      <td>0</td>\n      <td>0</td>\n      <td>0</td>\n      <td>1</td>\n      <td>4</td>\n    </tr>\n    <tr>\n      <th>4</th>\n      <td>0100102001</td>\n      <td>1577847600</td>\n      <td>3930</td>\n      <td>0.00</td>\n      <td>0.0</td>\n      <td>1</td>\n      <td>0</td>\n      <td>0</td>\n      <td>0</td>\n      <td>0</td>\n      <td>0</td>\n      <td>0</td>\n      <td>0</td>\n      <td>0</td>\n      <td>0</td>\n      <td>5</td>\n    </tr>\n    <tr>\n      <th>5</th>\n      <td>0100102001</td>\n      <td>1580526000</td>\n      <td>2659</td>\n      <td>0.00</td>\n      <td>0.0</td>\n      <td>0</td>\n      <td>1</td>\n      <td>0</td>\n      <td>0</td>\n      <td>0</td>\n      <td>0</td>\n      <td>0</td>\n      <td>0</td>\n      <td>0</td>\n      <td>0</td>\n      <td>6</td>\n    </tr>\n    <tr>\n      <th>6</th>\n      <td>0100102001</td>\n      <td>1583031600</td>\n      <td>2700</td>\n      <td>0.37</td>\n      <td>0.0</td>\n      <td>0</td>\n      <td>0</td>\n      <td>1</td>\n      <td>0</td>\n      <td>0</td>\n      <td>0</td>\n      <td>0</td>\n      <td>0</td>\n      <td>0</td>\n      <td>0</td>\n      <td>7</td>\n    </tr>\n    <tr>\n      <th>7</th>\n      <td>0100102001</td>\n      <td>1585710000</td>\n      <td>2829</td>\n      <td>1.00</td>\n      <td>1.0</td>\n      <td>0</td>\n      <td>0</td>\n      <td>0</td>\n      <td>1</td>\n      <td>0</td>\n      <td>0</td>\n      <td>0</td>\n      <td>0</td>\n      <td>0</td>\n      <td>0</td>\n      <td>8</td>\n    </tr>\n    <tr>\n      <th>8</th>\n      <td>0100102001</td>\n      <td>1588302000</td>\n      <td>4743</td>\n      <td>1.00</td>\n      <td>1.0</td>\n      <td>0</td>\n      <td>0</td>\n      <td>0</td>\n      <td>0</td>\n      <td>1</td>\n      <td>0</td>\n      <td>0</td>\n      <td>0</td>\n      <td>0</td>\n      <td>0</td>\n      <td>9</td>\n    </tr>\n    <tr>\n      <th>9</th>\n      <td>0100102001</td>\n      <td>1590980400</td>\n      <td>4989</td>\n      <td>1.00</td>\n      <td>1.0</td>\n      <td>0</td>\n      <td>0</td>\n      <td>0</td>\n      <td>0</td>\n      <td>0</td>\n      <td>1</td>\n      <td>0</td>\n      <td>0</td>\n      <td>0</td>\n      <td>0</td>\n      <td>10</td>\n    </tr>\n  </tbody>\n</table>\n</div>"
     },
     "metadata": {},
     "execution_count": 5
    }
   ],
   "source": [
    "df"
   ]
  },
  {
   "cell_type": "code",
   "execution_count": 6,
   "metadata": {},
   "outputs": [
    {
     "output_type": "execute_result",
     "data": {
      "text/plain": "datetime.datetime(2020, 4, 1, 0, 0)"
     },
     "metadata": {},
     "execution_count": 6
    }
   ],
   "source": [
    "datetime.fromtimestamp(1585710000)"
   ]
  },
  {
   "cell_type": "code",
   "execution_count": null,
   "metadata": {},
   "outputs": [],
   "source": []
  },
  {
   "cell_type": "code",
   "execution_count": 7,
   "metadata": {},
   "outputs": [],
   "source": [
    "linearproduct = ProductLearning()"
   ]
  },
  {
   "cell_type": "code",
   "execution_count": 8,
   "metadata": {},
   "outputs": [],
   "source": [
    "linearproduct.fit_linear_monthly_product('0100102002','010101')"
   ]
  },
  {
   "cell_type": "code",
   "execution_count": 9,
   "metadata": {},
   "outputs": [
    {
     "output_type": "execute_result",
     "data": {
      "text/plain": "array([  136.61917959,   515.40911537,   278.75369309,  -635.22689683,\n       -1023.75658319, -1518.21637162,   783.80303846,  1249.82244854,\n         227.67605277,   337.69546285,  -142.28512707,   441.73428301,\n          65.98058992])"
     },
     "metadata": {},
     "execution_count": 9
    }
   ],
   "source": [
    "linearproduct.model.model.coef_"
   ]
  },
  {
   "cell_type": "code",
   "execution_count": 10,
   "metadata": {},
   "outputs": [
    {
     "output_type": "execute_result",
     "data": {
      "text/plain": "['EVENT:COVID-19',\n 'EVENT:AUXÍLIO GOVERNO',\n 'CALENDAR:MONTH:1',\n 'CALENDAR:MONTH:2',\n 'CALENDAR:MONTH:3',\n 'CALENDAR:MONTH:4',\n 'CALENDAR:MONTH:5',\n 'CALENDAR:MONTH:6',\n 'CALENDAR:MONTH:9',\n 'CALENDAR:MONTH:10',\n 'CALENDAR:MONTH:11',\n 'CALENDAR:MONTH:12',\n 'PARAMS:SEQ']"
     },
     "metadata": {},
     "execution_count": 10
    }
   ],
   "source": [
    "linearproduct.model.params"
   ]
  },
  {
   "cell_type": "code",
   "execution_count": 11,
   "metadata": {},
   "outputs": [
    {
     "output_type": "execute_result",
     "data": {
      "text/plain": "array([  136.61917959,   515.40911537,   278.75369309,  -635.22689683,\n       -1023.75658319, -1518.21637162,   783.80303846,  1249.82244854,\n         227.67605277,   337.69546285,  -142.28512707,   441.73428301,\n          65.98058992])"
     },
     "metadata": {},
     "execution_count": 11
    }
   ],
   "source": [
    "linearproduct.model.model.coef_"
   ]
  },
  {
   "cell_type": "code",
   "execution_count": 12,
   "metadata": {},
   "outputs": [
    {
     "output_type": "execute_result",
     "data": {
      "text/plain": "2735.7490260130453"
     },
     "metadata": {},
     "execution_count": 12
    }
   ],
   "source": [
    "linearproduct.model.predict_model(params=[{\"param\": \"EVENT:COVID-19\", \"value\":1},{\"param\": \"PARAMS:SEQ\", \"value\":11}])"
   ]
  },
  {
   "cell_type": "code",
   "execution_count": 13,
   "metadata": {},
   "outputs": [],
   "source": [
    "import calendar"
   ]
  },
  {
   "cell_type": "code",
   "execution_count": 14,
   "metadata": {},
   "outputs": [
    {
     "output_type": "execute_result",
     "data": {
      "text/plain": "31"
     },
     "metadata": {},
     "execution_count": 14
    }
   ],
   "source": [
    "calendar.monthrange(2020,7)[1]"
   ]
  },
  {
   "cell_type": "code",
   "execution_count": 15,
   "metadata": {},
   "outputs": [],
   "source": [
    "from lib.repository.linearmodelrepository import LinearModelRepository"
   ]
  },
  {
   "cell_type": "code",
   "execution_count": 16,
   "metadata": {},
   "outputs": [],
   "source": [
    "linear_repo = LinearModelRepository()"
   ]
  },
  {
   "cell_type": "code",
   "execution_count": 17,
   "metadata": {
    "tags": []
   },
   "outputs": [],
   "source": [
    "model = linear_repo.load_valid(product_id='0100102000', company_id='010101')"
   ]
  },
  {
   "cell_type": "code",
   "execution_count": 18,
   "metadata": {},
   "outputs": [
    {
     "output_type": "execute_result",
     "data": {
      "text/plain": "3933.1051070111607"
     },
     "metadata": {},
     "execution_count": 18
    }
   ],
   "source": [
    "model.predict_model(params=[{\"param\": \"EVENT:COVID-19\", \"value\":1},{\"param\": \"EVENT:AUXÍLIO GOVERNO\", \"value\":1},{\"param\": \"PARAMS:SEQ\", \"value\":11}])"
   ]
  },
  {
   "cell_type": "code",
   "execution_count": 19,
   "metadata": {},
   "outputs": [
    {
     "output_type": "execute_result",
     "data": {
      "text/plain": "['EVENT:COVID-19',\n 'CALENDAR:MONTH:1',\n 'CALENDAR:MONTH:2',\n 'CALENDAR:MONTH:3',\n 'CALENDAR:MONTH:4',\n 'CALENDAR:MONTH:5',\n 'CALENDAR:MONTH:6',\n 'CALENDAR:MONTH:9',\n 'CALENDAR:MONTH:10',\n 'CALENDAR:MONTH:11',\n 'CALENDAR:MONTH:12',\n 'PARAMS:SEQ']"
     },
     "metadata": {},
     "execution_count": 19
    }
   ],
   "source": [
    "model.params"
   ]
  },
  {
   "cell_type": "code",
   "execution_count": 20,
   "metadata": {},
   "outputs": [],
   "source": [
    "model.valid_to = datetime.now().timestamp()"
   ]
  },
  {
   "cell_type": "code",
   "execution_count": 21,
   "metadata": {},
   "outputs": [
    {
     "output_type": "execute_result",
     "data": {
      "text/plain": "1595860936.289502"
     },
     "metadata": {},
     "execution_count": 21
    }
   ],
   "source": [
    "model.valid_to"
   ]
  },
  {
   "cell_type": "code",
   "execution_count": 22,
   "metadata": {
    "tags": []
   },
   "outputs": [],
   "source": [
    "linear_repo.update(model)"
   ]
  },
  {
   "cell_type": "code",
   "execution_count": 23,
   "metadata": {},
   "outputs": [
    {
     "output_type": "execute_result",
     "data": {
      "text/plain": "1595860936.289502"
     },
     "metadata": {},
     "execution_count": 23
    }
   ],
   "source": [
    "model.valid_to"
   ]
  },
  {
   "cell_type": "code",
   "execution_count": null,
   "metadata": {},
   "outputs": [],
   "source": []
  }
 ],
 "metadata": {
  "kernelspec": {
   "display_name": "Python 3.7.4 64-bit ('anaconda3': conda)",
   "language": "python",
   "name": "python37464bitanaconda3condafc26ba1c789945e79c69be9d7582ea17"
  },
  "language_info": {
   "codemirror_mode": {
    "name": "ipython",
    "version": 3
   },
   "file_extension": ".py",
   "mimetype": "text/x-python",
   "name": "python",
   "nbconvert_exporter": "python",
   "pygments_lexer": "ipython3",
   "version": "3.7.4-final"
  }
 },
 "nbformat": 4,
 "nbformat_minor": 2
}